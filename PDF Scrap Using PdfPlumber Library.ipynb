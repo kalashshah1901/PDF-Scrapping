{
 "cells": [
  {
   "cell_type": "markdown",
   "id": "3bd76679",
   "metadata": {},
   "source": [
    "### Input data from pdf\n",
    "\n",
    "<html>\n",
    "     <style>\n",
    "    </style>\n",
    "    <body>\n",
    "        <div align='right'><img src = \"combined_img.png\" /></div>\n",
    "    </body>\n",
    "</html>"
   ]
  },
  {
   "cell_type": "code",
   "execution_count": 97,
   "id": "c27a4b6d",
   "metadata": {},
   "outputs": [],
   "source": [
    "import pdfplumber\n",
    "import pandas as pd\n",
    "import re"
   ]
  },
  {
   "cell_type": "code",
   "execution_count": 2,
   "id": "7469362d",
   "metadata": {},
   "outputs": [],
   "source": [
    "## read pdf\n",
    "pdf = pdfplumber.open(\"ca-warn-report.pdf\")#.pages[0]"
   ]
  },
  {
   "cell_type": "code",
   "execution_count": 32,
   "id": "4cc36fc3",
   "metadata": {},
   "outputs": [],
   "source": [
    "page = pdf.pages[14].extract_tables()\n",
    "df1 = pd.DataFrame(page)"
   ]
  },
  {
   "cell_type": "code",
   "execution_count": 94,
   "id": "5c640f4b",
   "metadata": {},
   "outputs": [],
   "source": [
    "df1, df2 = None, None\n",
    "table1,table2 = [], []\n",
    "table_reference = table1\n",
    "for page_no in range(len(pdf.pages)):\n",
    "    for tab in pdf.pages[page_no].extract_tables():\n",
    "        \n",
    "        if  re.search(\"Summary by\\nMonth.*\", tab[0][0]):\n",
    "            table_reference = table2\n",
    "\n",
    "        table_reference.extend(tab)\n",
    "\n",
    "df1 = pd.DataFrame(table1)\n",
    "## set 1st row as col\n",
    "df1.columns = df1.iloc[0] \n",
    "df1 = df1.iloc[1:]\n",
    "\n",
    "df2 = pd.DataFrame(table2)\n",
    "## set 1st row as col\n",
    "df2.columns = df2.iloc[0] \n",
    "df2 = df2.iloc[1:]"
   ]
  },
  {
   "cell_type": "code",
   "execution_count": 96,
   "id": "0b9258a1",
   "metadata": {},
   "outputs": [],
   "source": [
    "## converted into an excel sheet\n",
    "df1.to_excel('pdf_scrap.xlsx')"
   ]
  },
  {
   "cell_type": "code",
   "execution_count": null,
   "id": "3e09bee8",
   "metadata": {},
   "outputs": [],
   "source": []
  }
 ],
 "metadata": {
  "kernelspec": {
   "display_name": "Python 3 (ipykernel)",
   "language": "python",
   "name": "python3"
  },
  "language_info": {
   "codemirror_mode": {
    "name": "ipython",
    "version": 3
   },
   "file_extension": ".py",
   "mimetype": "text/x-python",
   "name": "python",
   "nbconvert_exporter": "python",
   "pygments_lexer": "ipython3",
   "version": "3.9.13"
  }
 },
 "nbformat": 4,
 "nbformat_minor": 5
}
